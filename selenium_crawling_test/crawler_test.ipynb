{
 "cells": [
  {
   "cell_type": "code",
   "execution_count": 336,
   "metadata": {
    "scrolled": false
   },
   "outputs": [
    {
     "name": "stdout",
     "output_type": "stream",
     "text": [
      "가평 휴성펜션\n",
      "\n",
      "지번 : 경기 가평군 북면 적목리 553-22 \n",
      "도로명 : 경기 가평군 북면 가화로 3169-23                                \n",
      "\n",
      "오후 3시 00분 이후\n",
      "오전 11시 00분 이전\n",
      "9\n",
      "\n",
      "★2018년 수영장 오픈\n",
      "\n",
      "\n",
      "\n",
      "※ 2018년 5월 1일 부터 수영장 이용 가능합니다!\n",
      "\n",
      "· 운영시간 : 오후2시~9시\n",
      "\n",
      "· 수영장 크기 : 가로 5.2m / 세로 10m / 수심1~1.2m\n",
      "\n",
      "· 튜브나 놀이기구는 비치하고 있지 않습니다.\n",
      "\n",
      "· 콤프레샤를 비치해놓고 있어 튜브나 공에 바람넣기는 수월합니다.\n",
      "\n",
      "· 음식물 반입금지, 음주 후 입수금지, 다이빙 절대 금지\n",
      "\n",
      "객실구조에 대한 안내 \n",
      "\n",
      "\n",
      "\n",
      "전 객실 복층형태이며, 1층: 거실형온돌+주방1+화장실1+테라스 / 복층: 침대형원룸+주방1+화장실1+테라스로 구성되어 있습니다 \n",
      "\n",
      "* 바비큐장은 2층 개별테라스에서 이용가능합니다. \n",
      "\n",
      "[\"\\uc2a4\\ud30c/\\uc6d4\\ud480\", \"\\uc218\\uc601\\uc7a5\", \"\\uac1c\\ubcc4\\ubc14\\ube44\\ud050\", \"\\ub178\\ub798\\ubc29\", \"\\ubcf5\\uce35\", \"IPTV/WiFi\", \"\\uacc4\\uace1\\uc778\\uc811\", \"\\ubc14\\ube44\\ud050\\uc7a5\"]\n",
      "22시 이후 입실하실 경우 펜션으로 미리 연락 부탁드립니다.\n",
      "객실 정리 후 퇴실점검을 받으셔야 합니다. 점검 후 객실키를 반납해 주세요.\n",
      "\n",
      "가평터미널 인근 조은마트에서 픽업 요청 후 1인 기준 15,000원 정도 장을 보시면 펜션까지 픽업이 가능합니다.(왕복 픽업 가능) \n",
      "\n",
      "\n",
      "\n",
      "\n",
      "\n",
      "\n",
      "\n",
      "빛나는 별과 아름다운 밤핮늘 계곡의 노래가 함께하는 곳 EXTERIOR\n",
      "\n",
      "\n",
      "\n",
      "예약 인원에서 인원이 추가되는 경우 펜션에 미리 연락을 주시기 바랍니다.\n",
      "최대 인원 초과 시 입실이 불가능할 수 있으며, 해당 사유로 환불 받을 수 없습니다.\n",
      "반려동물 입실 가능 펜션 외에 반려동물 동반 시 입실이 거부될 수 있으며, 해당 사유로 환불 받을 수 없습니다.\n",
      "미성년자는 혼숙이 불가능하며, 동성일 경우 보호자 동반이나 동의가 있을 경우에만 입실이 가능합니다.\n",
      "다음 이용 고객을 위해 입실, 퇴실 시간을 준수해 주시기 바랍니다.\n",
      "객실 및 주변시설 이용 시 시설물의 훼손, 분실에 대한 책임은 투숙객에게 있으며, 손해배상의 책임을 질 수 있습니다.\n",
      "객실의 안전과 화재예방을 위해 객실 내에서 생선이나 고기 등을 굽는 직화 방식은 허용되지 않으며, 개인적으로 준비해 오는 취사도구(그릴, 숯, 전기/전열기구 등)은 반입이 금지되어 있습니다.\n",
      "객실 내에서의 흡연은 금지되어 있으며, 지정된 장소를 이용해 주시기 바랍니다.\n",
      "다른 이용객에게 피해를 줄 수 있는 무분별한 오락, 음주, 고성방가는 삼가주시기 바랍니다.\n",
      "\n",
      "\n"
     ]
    }
   ],
   "source": [
    "import re\n",
    "import requests\n",
    "from bs4 import BeautifulSoup\n",
    "import time\n",
    "from urllib import parse\n",
    "\n",
    "\n",
    "# 사이드 메뉴 열 필요 없어서 일땐 빼놈. @@@@@@@@@@@@@@@@@@@@@@@@@@@@@@@@@@@@@@@@\n",
    "\n",
    "# 여기 참고해서 작성해봤었음. https://brunch.co.kr/@jk-lab/18\n",
    "\n",
    "\n",
    "\n",
    "\n",
    "# 지역별로 버튼 클릭할 필요없이 걍 다 담겨있네..\n",
    "# from selenium import webdriver\n",
    "\n",
    "# chromedriver_dir = '/home/nasanmaro/Desktop/projects/yapen/test/selenium_crawling_test/chromedriver'\n",
    "# driver = webdriver.Chrome(chromedriver_dir)\n",
    "# driver.get('http://www.yapen.co.kr')\n",
    "# time.sleep(5)\n",
    "\n",
    "# # 왼쪽 메뉴를 연다. \n",
    "# loca = driver.find_element_by_class_name('yapenMenu')\n",
    "# loca.click()\n",
    "# time.sleep(5)\n",
    "\n",
    "# # 드라이버 인스턴스로부터 현제 메뉴 연상태의 페이지 소스 받아서 source에 넣는다. \n",
    "# source = driver.page_source\n",
    "\n",
    "# # soup 객체로 만듬.\n",
    "# soup = BeautifulSoup(source, 'lxml')\n",
    "\n",
    "\n",
    "\n",
    "# 이것까지 하면 사이드 메뉴여는것 됬다. \n",
    "##########뒤에 아직따라안한 부분.################################################\n",
    "\n",
    "\n",
    "# sido = driver.find_element_by_class_name('sido_area_box')\n",
    "# li = sido.find_elements_by_tag_name('li')\n",
    "# li[0].click()\n",
    "# time.sleep(5)\n",
    "\n",
    "# gugun = driver.find_element_by_class_name('gugun_area_box')\n",
    "# guli = gugun.find_element_by_tag_name('li')\n",
    "# guuli.click()\n",
    "# time.sleep(5)\n",
    "\n",
    "\n",
    "#@@@@@@@@@@@@@@@@@@@@@@@@@@@@@@@@@@@@@@@@@@@@@@@@@@@@@@@@@@@@@@@@@@@@@@@@@@@@@@@@@\n",
    "\n",
    "\n",
    "\n",
    "\n",
    "\n",
    "\n",
    "\n",
    "\n",
    "\n",
    "#@@@@@@@@@@@@@@@@@@@@@@@@@@@@@@@@@@@@@@@@@@@@@@@@@@@@@@@@@@@@@@@@@@@@@@@@@@@@@@@\n",
    "# location_name_list 뽑는 과정 \n",
    "\n",
    "def location_name_list_crawler():\n",
    "    request = requests.get(\"http://www.yapen.co.kr\")\n",
    "    response = request.text\n",
    "    soup = BeautifulSoup(response, 'lxml')\n",
    "\n",
    "    left_menu=soup.select('div.locLayer')\n",
    "    # 풀빌라, MD추천 제외 14지역중 7지역 만남김.\n",
    "    selected_left_menu= left_menu[2:9]\n",
    "    \n",
    "\n",
    "    # 여기에 list 형태로 지역,지역고유번호/(세부지역,고유번호) 넣고싶다. \n",
    "    # location_name_list =[ [지역1 ,지역1고유번호 , [ (고유번호,세부지역),(고유번호2,세부지역2)...] ],\n",
    "    #                       [지역2 ,지역2고유번호 , [ (고유번호,세부지역),(고유번호2,세부지역2)...] ],..\n",
    "    location_name_list=list()\n",
    "\n",
    "    for location in selected_left_menu:\n",
    "        # 지역 이름 먼저 뽑음 \n",
    "        location_name = location.select('div.titleStyle')[0].get_text(strip=True)\n",
    "        location_name_sub_list=list()\n",
    "        location_name_sub_list.append(location_name)\n",
    "\n",
    "        li=location.select('li')\n",
    "\n",
    "        #for문 돌면서 (고유번호 세부지역) 리스트에 담은뒤 location_list에 넣겠다.\n",
    "        location_detail_list=[] \n",
    "        for location_detail in li:\n",
    "            onclick_value = location_detail['onclick']  #regionMove('1.003021','금산/논산');\n",
    "            \n",
    "            split_right = onclick_value.split(',')[0]\n",
    "            split_left = onclick_value.split(',')[1]\n",
    "\n",
    "            sub_location_no = re.findall(\"'(.+)'\",split_right)[0]\n",
    "            sub_location_name = re.findall(\"'(.+)'\",split_left)[0]\n",
    "\n",
    "            location_detail_tuple = (sub_location_no,sub_location_name)\n",
    "\n",
    "             # (고유번호/세부지역) 리스트에 담음\n",
    "            location_detail_list.append(location_detail_tuple)\n",
    "        \n",
    "        # 지역 고유번호부터 정규표현식으로 뽑아내서 담음.(세부지역 고유번호의 소숫점 뒤 3자리)\n",
    "        \n",
    "        location_detail_no_for_search = location_detail_list[0][0] # '1.003021'\n",
    "        location_detaol_no = re.findall(\".(\\d\\d\\d)\",location_detail_no_for_search)[0]\n",
    "        location_name_sub_list.append(location_detaol_no)\n",
    "        \n",
    "        # location_name_sub_list (고유번호 세부지역) 리스트를 넣음.\n",
    "        location_name_sub_list.append(location_detail_list)\n",
    "        \n",
    "        # 상위 리스트에 넣음 \n",
    "        location_name_list.append(location_name_sub_list)\n",
    "        \n",
    "    return location_name_list\n",
    "    \n",
    "    \n",
    "# location_dict 뽑는 과정 끝\n",
    "######################################################################################\n",
    "\n",
    "\n",
    "\n",
    "\n",
    "\n",
    "\n",
    "\n",
    "\n",
    "\n",
    "\n",
    "\n",
    "\n",
    "#@@@@@@@@@@@@@@@@@@@@@@@@@@@@@@@@@@@@@@@@@@@@@@@@@@@@@@@@@@@@@@@@@@@@@@@@@@@@@@@@@\n",
    "#이제 각 페이지 location 가서 해커톤때 쓴 pension crawler 돌리고 싶다.\n",
    "# 메인페이지에서 기본정보 3개만 여러개 팬션에게서 가져왔던것.\n",
    "\n",
    "# url = \"http://www.yapen.co.kr/region?location=015&subLocation=1.015001\"\n",
    "\n",
    "def pension_crawler(location_no,sub_location_no):\n",
    "\n",
    "    params = {\n",
    "            'location':location_no,\n",
    "             'subLocation':sub_location_no,\n",
    "        }\n",
    "\n",
    "    url = \"http://www.yapen.co.kr/region?\" + parse.urlencode(params)\n",
    "\n",
    "    request = requests.get(url)\n",
    "    response = request.text\n",
    "    soup = BeautifulSoup(response, 'lxml')\n",
    "\n",
    "\n",
    "    title_list=list()\n",
    "    img_file_list=list()\n",
    "    price_list=list()\n",
    "    pldx_list=list()\n",
    "    discount_rate_list=list()\n",
    "\n",
    "    title_uls = soup.select('ul.dest-place-opt-fea')\n",
    "    for ul in title_uls:\n",
    "        li=ul.select('li')\n",
    "        title_list.append(li[1].get_text())\n",
    "\n",
    "    price_uls = soup.select('ul.dest-place-opt-cast')\n",
    "    for ul in price_uls:\n",
    "        li=ul.select('li')\n",
    "        price_list.append(li[1].get_text())\n",
    "\n",
    "\n",
    "    img_file_divs = soup.select('div.imgBox')\n",
    "    for div in img_file_divs:\n",
    "        img_file_list.append(div.select('img')[0]['src'])\n",
    "\n",
    "        list1 = re.split('/', div.select('img')[0]['src'])\n",
    "        pldx_list.append(int(list1[5]))\n",
    "\n",
    "\n",
    "    dest_place_pics = soup.select('div.dest-place-pic')\n",
    "    for dest_place_pic in dest_place_pics:\n",
    "        # dest_place_pic에는 dic가 2개 or 1게 있는데  discount_rate가 있는 경우는 div가 2개이며\n",
    "        # 길이가 5여서 이것으로 discount_rate있고 없고 를 비교한다. \n",
    "        if(len(dest_place_pic)==5):\n",
    "            discount_rate_string =dest_place_pic.select('div')[0].get_text(strip=True)\n",
    "            # %문자 정규표현식으로 빼줌.\n",
    "            discount_rate_int = int(re.search('(\\d*)',discount_rate_string).group())\n",
    "            discount_rate_list.append(discount_rate_int)\n",
    "        else:\n",
    "            discount_rate_list.append(0)\n",
    "\n",
    "\n",
    "    sub_locations_info_list = [title_list, price_list, img_file_list,pldx_list,discount_rate_list]\n",
    "    \n",
    "    return sub_locations_info_list\n",
    "        \n",
    "\n",
    "###########################################################################################\n",
    "\n",
    "\n",
    "\n",
    "\n",
    "\n",
    "\n",
    "\n",
    "###########################################################################################\n",
    "##province_name_list 로부터 지역명,고유번호 받아서 각 세부지역별로 pension_crawler \n",
    "## 해서 기본정보 3개씩 모으는 크롤러##\n",
    "\n",
    "def location_crawler():\n",
    "    \n",
    "    location_info_list=list()\n",
    "    \n",
    "    location_name_list = location_name_list_crawler()\n",
    "    # location_name_list =[ [지역1 ,지역1고유번호 , [ (고유번호,세부지역),(고유번호2,세부지역2)...] ],\n",
    "    #                       [지역2 ,지역2고유번호 , [ (고유번호,세부지역),(고유번호2,세부지역2)...] ],..\n",
    "    \n",
    "    for location in location_name_list:\n",
    "        location_name = location[0]\n",
    "        location_no = location[1]\n",
    "        sub_location_list = location[2]\n",
    "        for sub_location in sub_location_list:\n",
    "            print(sub_location)\n",
    "            sub_location_no = sub_location[0]\n",
    "            sub_location_name = sub_location[1]\n",
    "            sub_locations_info_list = pension_crawler(location_no, sub_location_no)\n",
    "            \n",
    "            #기존에 pension모델 1차적으로 이름,가격,이미지로  만들던것에\n",
    "            #location, sub_location 속성 추가해서 이곳에서 만들면 될듯하다.\n",
    "            # 일단은 리스트 형태로 정보 6개 묶어서 저장해보겠음.\n",
    "            #[[location,sub_location,title,pricem,img_file,pldx]....팬션 999까지 한 리스트에\n",
    "            \n",
    "            for i in range(len(sub_locations_info_list[0])):\n",
    "                location_info_list.append([location_name,\n",
    "                                           sub_location_name,\n",
    "                                           sub_locations_info_list[0][i],# title\n",
    "                                           sub_locations_info_list[1][i],# price\n",
    "                                           sub_locations_info_list[2][i],# img_file\n",
    "                                           sub_locations_info_list[3][i],# pldx\n",
    "                                           sub_locations_info_list[4][i]\n",
    "                                          ])\n",
    "    \n",
    "    return location_info_list\n",
    "    \n",
    "#########################################################################################################\n",
    "\n",
    "\n",
    "\n",
    "\n",
    "\n",
    "\n",
    "\n",
    "\n",
    "\n",
    "#############################################################################################\n",
    "################pension-detail-crawler 작성중.################################################\n",
    "########\n",
    "######## 팬션별 세부정보 크롤링.\n",
    "\n",
    "# p테그 없는것 24140\n",
    "# 픽업가능타이틀,디테일 없는경우, 이용주의사항 디테일만 없는경우 32928\n",
    "# 픽업가능타이틀,디테일 없는경우, 27114\n",
    "# 픽업가능 있는경우 20405\n",
    "\n",
    "import json\n",
    "\n",
    "params = {\n",
    "    'ypIdx': 21438\n",
    "}\n",
    "\n",
    "url = \"http://www.yapen.co.kr/details?\" + parse.urlencode(params)\n",
    "\n",
    "request = requests.get(url)\n",
    "response = request.text\n",
    "soup = BeautifulSoup(response, 'lxml')\n",
    "\n",
    "# name \n",
    "name_root = soup.select('div.wrap_1000')\n",
    "name = name_root[0].select('h3')[0].get_text()\n",
    "\n",
    "# address \n",
    "table = soup.select('table.pensionTbl')\n",
    "trs = table[0].select('tr')\n",
    "tds = trs[0].select('td')\n",
    "address = tds[0].get_text()\n",
    "\n",
    "# check_in, check_out \n",
    "tds2 = trs[1].select('td')\n",
    "check_in_out = tds2[0].select('span')\n",
    "check_in = check_in_out[0].get_text()\n",
    "check_out = check_in_out[1].get_text()\n",
    "\n",
    "# pickup\n",
    "tds3 = trs[2].select('td')\n",
    "pickup = tds3[0].get_text(strip=True)\n",
    "\n",
    "# room_num\n",
    "td4 = trs[3].select('td')\n",
    "number_tags = td4[0].select('span')\n",
    "room_string = number_tags[0].get_text()\n",
    "room_num = int(re.search('(\\d*)',room_string).group())\n",
    "\n",
    "# info\n",
    "td5 = trs[4].select('td')\n",
    "infos = td5[0].select('p')\n",
    "info = ''\n",
    "for one_info in infos:\n",
    "    info = info + '\\n' + one_info.get_text() + '\\n'\n",
    "\n",
    "# theme \n",
    "td6 = trs[5].select('td')\n",
    "lis = td6[0].select('li')\n",
    "theme_list = list()\n",
    "for li in lis:\n",
    "    theme_list.append(li.get_text() )\n",
    "theme = json.dumps(theme_list)\n",
    "\n",
    "\n",
    "room_name_list = list()\n",
    "image_table = soup.select('div.roomImageLists')\n",
    "image_table_lis = image_table[0].select('li')\n",
    "for index,image_table_li in enumerate(image_table_lis):\n",
    "    if 0<index<room_num+1:\n",
    "        room_name_list.append(image_table_li.get_text())\n",
    "        \n",
    "\n",
    "        \n",
    "        \n",
    "# pension_detail 페이지 하단 추가정보들 . \n",
    "\n",
    "# print(detailDiv)\n",
    "detailDiv = soup.select('div.detailDiv')[0]\n",
    "detailsPensionInfoTitle = detailDiv.select('div.detailsPensionInfoTitle')\n",
    "\n",
    "pension_detail_bellow_dict = dict()\n",
    "\n",
    "# print(detailsPensionInfoTitle)\n",
    "\n",
    "for one_title in detailsPensionInfoTitle:\n",
    "    next_detail_div = one_title.findNext('div')\n",
    "    next_detail=''\n",
    "    for p in next_detail_div.select('p'):\n",
    "        next_detail= next_detail + p.get_text() +'\\n'\n",
    "    # p 테그없고 바로 text쓴경우에는 검출안된다.....\n",
    "\n",
    "           \n",
    "    pension_detail_bellow_dict[one_title.get_text(strip=True)] = next_detail\n",
    "\n",
    "# print(pension_detail_bellow_dict)\n",
    "\n",
    "# print(pension_detail_bellow_dict.get('입실 / 퇴실시간'))\n",
    "# print('@@@@@@@@@@@@@@@@@@@@@@@@@@@@@@@@@@@@@@@@@@@@@@@@@@@@@@@@@@@@@@@@@@@@')\n",
    "# print(pension_detail_bellow_dict.get('픽업가능'))\n",
    "# print('@@@@@@@@@@@@@@@@@@@@@@@@@@@@@@@@@@@@@@@@@@@@@@@@@@@@@@@@@@@@@@@@@@@@')\n",
    "# print(pension_detail_bellow_dict.get('펜션소개 및 인사말'))\n",
    "# print('@@@@@@@@@@@@@@@@@@@@@@@@@@@@@@@@@@@@@@@@@@@@@@@@@@@@@@@@@@@@@@@@@@@@')\n",
    "# print(pension_detail_bellow_dict.get('이용 주의사항'))\n",
    "\n",
    "\n",
    "\n",
    "\n",
    "check_in_out_detail = \"\"\n",
    "pickup_detail = \"\"\n",
    "gretting = \"\"\n",
    "precautions = \"\" \n",
    "\n",
    "\n",
    "for key, value in pension_detail_bellow_dict.items():\n",
    "    if key == '입실 / 퇴실시간':\n",
    "        check_in_out_detail = value\n",
    "    elif key == '픽업가능':\n",
    "        pickup_detail = value\n",
    "    elif key == '펜션소개 및 인사말':\n",
    "        gretting = value\n",
    "    elif key == '이용 주의사항':\n",
    "        precautions =  value\n",
    "        \n",
    "\n",
    "\n",
    "        \n",
    "        \n",
    "print(name)\n",
    "print(address)\n",
    "print(check_in)\n",
    "print(check_out)\n",
    "print(room_num)\n",
    "print(info_result)\n",
    "print(theme)\n",
    "\n",
    "print(check_in_out_detail)\n",
    "print(pickup_detail) \n",
    "print(gretting)\n",
    "print(precautions) \n",
    "        \n",
    "        \n",
    "\n",
    "\n",
    "# address = \n",
    "# check_in =\n",
    "# check_out =\n",
    "# pickup = \n",
    "# room_num = \n",
    "# info =\n",
    "# theme = \n",
    "# coordinate = \n",
    "\n",
    "# # pension-detail 페이지 하단부 이용안내 부분.\n",
    "# check_in_out_detail = \n",
    "# pickup_detail = \n",
    "# gretting = \n",
    "# precautions = \n",
    "\n",
    "\n",
    "\n",
    "#  해커톤때 모델저장하는것 크롤러에서 다해버렸는데 추후에 여기 참고하면 좋을듯.\n",
    "\n",
    "\n",
    "#  params = {\n",
    "#         'ypIdx': ypIdx\n",
    "#     }\n",
    "\n",
    "#     url = \"http://www.yapen.co.kr/details?\" + parse.urlencode(params)\n",
    "\n",
    "#     request = requests.get(url)\n",
    "#     response = request.text\n",
    "#     soup = BeautifulSoup(response, 'lxml')\n",
    "\n",
    "#     name_root = soup.select('div.wrap_1000')\n",
    "#     name = name_root[0].select('h3')[0].get_text()\n",
    "\n",
    "#     table = soup.select('table.pensionTbl')\n",
    "#     trs = table[0].select('tr')\n",
    "#     tds = trs[0].select('td')\n",
    "#     address = tds[0].get_text()\n",
    "\n",
    "#     tds2 = trs[1].select('td')\n",
    "#     check_in_out = tds2[0].select('span')\n",
    "#     check_in = check_in_out[0].get_text()\n",
    "#     check_out = check_in_out[1].get_text()\n",
    "\n",
    "#     td3 = trs[3].select('td')\n",
    "#     number_tags = td3[0].select('span')\n",
    "#     room = number_tags[0].get_text()\n",
    "\n",
    "#     td4 = trs[4].select('td')\n",
    "#     infos = td4[0].select('p')\n",
    "#     info_result = ''\n",
    "#     for info in infos:\n",
    "#         info_result = info_result + '\\n' + info.get_text() + '\\n'\n",
    "\n",
    "#     td5 = trs[5].select('td')\n",
    "#     lis = td5[0].select('li')\n",
    "#     theme_result = ''\n",
    "#     for li in lis:\n",
    "#         theme_result = theme_result + '\\n' + li.get_text() + '\\n'\n",
    "\n",
    "\n",
    "\n",
    "\n",
    "#@@@@@@@@@@@@@@@@@@@@@@@@@@@@@@@@@@@@@@@@@@@@@@@@@@@@@@@@@@@@@@@@@@@@@@@@@@@@@@@@@@@\n",
    "#@@@@@@@@@@@@@@@@@@@@@실행창 @@@@@@@@@@@@@@@@@@@@@@@@@@@@@@@@@@@@@@@@@@@@@@@@@@@@@@@@\n",
    "\n",
    "# province_name_list = province_name_list_crawler()\n",
    "# print(province_name_list)\n",
    "\n",
    "# test = location_name_list_crawler()\n",
    "# print(test)\n",
    "\n",
    "# test = pension_crawler('015','1.015001')\n",
    "# print(test)\n",
    "\n",
    "\n",
    "# location_info_list = location_crawler()\n",
    "# print(location_info_list)\n",
    "\n",
    "\n",
    "\n"
   ]
  },
  {
   "cell_type": "code",
   "execution_count": null,
   "metadata": {},
   "outputs": [],
   "source": []
  },
  {
   "cell_type": "code",
   "execution_count": null,
   "metadata": {},
   "outputs": [],
   "source": []
  },
  {
   "cell_type": "code",
   "execution_count": null,
   "metadata": {},
   "outputs": [],
   "source": []
  },
  {
   "cell_type": "code",
   "execution_count": null,
   "metadata": {},
   "outputs": [],
   "source": []
  },
  {
   "cell_type": "code",
   "execution_count": null,
   "metadata": {},
   "outputs": [],
   "source": []
  },
  {
   "cell_type": "code",
   "execution_count": null,
   "metadata": {},
   "outputs": [],
   "source": []
  },
  {
   "cell_type": "code",
   "execution_count": null,
   "metadata": {},
   "outputs": [],
   "source": []
  },
  {
   "cell_type": "code",
   "execution_count": null,
   "metadata": {},
   "outputs": [],
   "source": []
  },
  {
   "cell_type": "code",
   "execution_count": null,
   "metadata": {},
   "outputs": [],
   "source": []
  },
  {
   "cell_type": "code",
   "execution_count": null,
   "metadata": {},
   "outputs": [],
   "source": []
  },
  {
   "cell_type": "code",
   "execution_count": null,
   "metadata": {},
   "outputs": [],
   "source": []
  },
  {
   "cell_type": "code",
   "execution_count": null,
   "metadata": {},
   "outputs": [],
   "source": []
  },
  {
   "cell_type": "code",
   "execution_count": null,
   "metadata": {},
   "outputs": [],
   "source": []
  },
  {
   "cell_type": "code",
   "execution_count": null,
   "metadata": {},
   "outputs": [],
   "source": []
  },
  {
   "cell_type": "code",
   "execution_count": null,
   "metadata": {},
   "outputs": [],
   "source": []
  },
  {
   "cell_type": "code",
   "execution_count": null,
   "metadata": {},
   "outputs": [],
   "source": []
  },
  {
   "cell_type": "code",
   "execution_count": null,
   "metadata": {},
   "outputs": [],
   "source": []
  },
  {
   "cell_type": "code",
   "execution_count": null,
   "metadata": {},
   "outputs": [],
   "source": []
  },
  {
   "cell_type": "code",
   "execution_count": null,
   "metadata": {},
   "outputs": [],
   "source": []
  },
  {
   "cell_type": "code",
   "execution_count": null,
   "metadata": {},
   "outputs": [],
   "source": []
  },
  {
   "cell_type": "code",
   "execution_count": null,
   "metadata": {},
   "outputs": [],
   "source": []
  },
  {
   "cell_type": "code",
   "execution_count": null,
   "metadata": {},
   "outputs": [],
   "source": []
  },
  {
   "cell_type": "code",
   "execution_count": null,
   "metadata": {},
   "outputs": [],
   "source": []
  },
  {
   "cell_type": "code",
   "execution_count": null,
   "metadata": {},
   "outputs": [],
   "source": []
  },
  {
   "cell_type": "code",
   "execution_count": null,
   "metadata": {},
   "outputs": [],
   "source": []
  },
  {
   "cell_type": "code",
   "execution_count": null,
   "metadata": {},
   "outputs": [],
   "source": []
  },
  {
   "cell_type": "code",
   "execution_count": null,
   "metadata": {},
   "outputs": [],
   "source": []
  },
  {
   "cell_type": "code",
   "execution_count": null,
   "metadata": {},
   "outputs": [],
   "source": []
  },
  {
   "cell_type": "code",
   "execution_count": null,
   "metadata": {},
   "outputs": [],
   "source": []
  },
  {
   "cell_type": "code",
   "execution_count": null,
   "metadata": {},
   "outputs": [],
   "source": []
  },
  {
   "cell_type": "code",
   "execution_count": null,
   "metadata": {},
   "outputs": [],
   "source": []
  },
  {
   "cell_type": "code",
   "execution_count": null,
   "metadata": {},
   "outputs": [],
   "source": []
  },
  {
   "cell_type": "code",
   "execution_count": null,
   "metadata": {},
   "outputs": [],
   "source": []
  },
  {
   "cell_type": "code",
   "execution_count": null,
   "metadata": {},
   "outputs": [],
   "source": []
  },
  {
   "cell_type": "code",
   "execution_count": null,
   "metadata": {},
   "outputs": [],
   "source": []
  },
  {
   "cell_type": "code",
   "execution_count": null,
   "metadata": {},
   "outputs": [],
   "source": []
  },
  {
   "cell_type": "code",
   "execution_count": null,
   "metadata": {},
   "outputs": [],
   "source": []
  },
  {
   "cell_type": "code",
   "execution_count": null,
   "metadata": {},
   "outputs": [],
   "source": []
  },
  {
   "cell_type": "code",
   "execution_count": null,
   "metadata": {},
   "outputs": [],
   "source": []
  },
  {
   "cell_type": "code",
   "execution_count": null,
   "metadata": {},
   "outputs": [],
   "source": []
  },
  {
   "cell_type": "code",
   "execution_count": null,
   "metadata": {},
   "outputs": [],
   "source": []
  },
  {
   "cell_type": "code",
   "execution_count": null,
   "metadata": {},
   "outputs": [],
   "source": []
  },
  {
   "cell_type": "code",
   "execution_count": null,
   "metadata": {},
   "outputs": [],
   "source": []
  },
  {
   "cell_type": "code",
   "execution_count": null,
   "metadata": {},
   "outputs": [],
   "source": []
  },
  {
   "cell_type": "code",
   "execution_count": null,
   "metadata": {},
   "outputs": [],
   "source": []
  },
  {
   "cell_type": "code",
   "execution_count": null,
   "metadata": {},
   "outputs": [],
   "source": []
  },
  {
   "cell_type": "code",
   "execution_count": null,
   "metadata": {},
   "outputs": [],
   "source": []
  },
  {
   "cell_type": "code",
   "execution_count": null,
   "metadata": {},
   "outputs": [],
   "source": []
  },
  {
   "cell_type": "code",
   "execution_count": null,
   "metadata": {},
   "outputs": [],
   "source": []
  },
  {
   "cell_type": "code",
   "execution_count": null,
   "metadata": {},
   "outputs": [],
   "source": []
  },
  {
   "cell_type": "code",
   "execution_count": null,
   "metadata": {},
   "outputs": [],
   "source": []
  },
  {
   "cell_type": "code",
   "execution_count": null,
   "metadata": {},
   "outputs": [],
   "source": []
  },
  {
   "cell_type": "code",
   "execution_count": null,
   "metadata": {},
   "outputs": [],
   "source": []
  },
  {
   "cell_type": "code",
   "execution_count": null,
   "metadata": {},
   "outputs": [],
   "source": []
  },
  {
   "cell_type": "code",
   "execution_count": null,
   "metadata": {},
   "outputs": [],
   "source": []
  },
  {
   "cell_type": "code",
   "execution_count": null,
   "metadata": {},
   "outputs": [],
   "source": []
  },
  {
   "cell_type": "code",
   "execution_count": null,
   "metadata": {},
   "outputs": [],
   "source": []
  },
  {
   "cell_type": "code",
   "execution_count": null,
   "metadata": {},
   "outputs": [],
   "source": []
  },
  {
   "cell_type": "code",
   "execution_count": null,
   "metadata": {},
   "outputs": [],
   "source": []
  },
  {
   "cell_type": "code",
   "execution_count": null,
   "metadata": {},
   "outputs": [],
   "source": []
  },
  {
   "cell_type": "code",
   "execution_count": null,
   "metadata": {},
   "outputs": [],
   "source": []
  },
  {
   "cell_type": "code",
   "execution_count": null,
   "metadata": {},
   "outputs": [],
   "source": []
  },
  {
   "cell_type": "code",
   "execution_count": null,
   "metadata": {},
   "outputs": [],
   "source": []
  },
  {
   "cell_type": "code",
   "execution_count": null,
   "metadata": {},
   "outputs": [],
   "source": []
  },
  {
   "cell_type": "code",
   "execution_count": null,
   "metadata": {},
   "outputs": [],
   "source": []
  },
  {
   "cell_type": "code",
   "execution_count": null,
   "metadata": {},
   "outputs": [],
   "source": []
  },
  {
   "cell_type": "code",
   "execution_count": null,
   "metadata": {},
   "outputs": [],
   "source": []
  },
  {
   "cell_type": "code",
   "execution_count": null,
   "metadata": {},
   "outputs": [],
   "source": []
  },
  {
   "cell_type": "code",
   "execution_count": 262,
   "metadata": {},
   "outputs": [],
   "source": [
    "kkkk=\"\"\"\n",
    "    <div>\n",
    "      <div class=\"detailsPensionInfoTitle\">\n",
    "        입실 / 퇴실시간\n",
    "      </div>\n",
    "      <div style=\"font-size:12px; line-height:180%;\">\n",
    "        <div class=\"timeInfo\" style=\"padding:15px 16px; 10px;\">\n",
    "          <span class=\"checkin\" style=\"color: #f9f9f9;padding: 5px;background: #70b2e9;font-size: 11px;letter-spacing: -1px;border-radius: 5px;margin-top: -2px;\">\n",
    "            입실\n",
    "          </span>\n",
    "          <font style=\"font-weight:bold; color:#FF6559; font-size: 15px;\">\n",
    "            15:00이후\n",
    "          </font>\n",
    "          <span class=\"checkin\" style=\"color: #f9f9f9;padding: 5px;background: #70b2e9;font-size: 11px;letter-spacing: -1px;border-radius: 5px;margin-top: -2px;\">\n",
    "            퇴실\n",
    "          </span>\n",
    "          <font style=\"font-weight:bold; color:#FF6559; font-size: 15px;\">\n",
    "            11:00이전\n",
    "          </font>\n",
    "        </div>\n",
    "        <div class=\"top_ex\" style=\"margin-left: 18px; margin-bottom: 8px;\">\n",
    "          <p>\n",
    "            22시 이후 입실하실 경우 펜션으로 미리 연락 부탁드립니다. 객실 깨끗이 정리 후 키 반납해주시길 바랍니다.\n",
    "          </p>\n",
    "        </div>\n",
    "      </div>\n",
    "    </div>\n",
    "\"\"\""
   ]
  },
  {
   "cell_type": "code",
   "execution_count": 263,
   "metadata": {
    "scrolled": true
   },
   "outputs": [
    {
     "name": "stderr",
     "output_type": "stream",
     "text": [
      "/home/nasanmaro/.local/share/virtualenvs/selenium_crawling_test-TzOD7ppC/lib/python3.6/site-packages/bs4/__init__.py:181: UserWarning: No parser was explicitly specified, so I'm using the best available HTML parser for this system (\"lxml\"). This usually isn't a problem, but if you run this code on another system, or in a different virtual environment, it may use a different parser and behave differently.\n",
      "\n",
      "The code that caused this warning is on line 193 of the file /home/nasanmaro/.pyenv/versions/3.6.5/lib/python3.6/runpy.py. To get rid of this warning, change code that looks like this:\n",
      "\n",
      " BeautifulSoup(YOUR_MARKUP})\n",
      "\n",
      "to this:\n",
      "\n",
      " BeautifulSoup(YOUR_MARKUP, \"lxml\")\n",
      "\n",
      "  markup_type=markup_type))\n"
     ]
    }
   ],
   "source": [
    "sibling_soup2 = BeautifulSoup(kkkk)"
   ]
  },
  {
   "cell_type": "code",
   "execution_count": null,
   "metadata": {},
   "outputs": [],
   "source": []
  },
  {
   "cell_type": "code",
   "execution_count": 270,
   "metadata": {},
   "outputs": [
    {
     "name": "stdout",
     "output_type": "stream",
     "text": [
      "<class 'bs4.element.Tag'>\n",
      "<div style=\"font-size:12px; line-height:180%;\">\n",
      "<div class=\"timeInfo\" style=\"padding:15px 16px; 10px;\">\n",
      "<span class=\"checkin\" style=\"color: #f9f9f9;padding: 5px;background: #70b2e9;font-size: 11px;letter-spacing: -1px;border-radius: 5px;margin-top: -2px;\">\n",
      "            입실\n",
      "          </span>\n",
      "<font style=\"font-weight:bold; color:#FF6559; font-size: 15px;\">\n",
      "            15:00이후\n",
      "          </font>\n",
      "<span class=\"checkin\" style=\"color: #f9f9f9;padding: 5px;background: #70b2e9;font-size: 11px;letter-spacing: -1px;border-radius: 5px;margin-top: -2px;\">\n",
      "            퇴실\n",
      "          </span>\n",
      "<font style=\"font-weight:bold; color:#FF6559; font-size: 15px;\">\n",
      "            11:00이전\n",
      "          </font>\n",
      "</div>\n",
      "<div class=\"top_ex\" style=\"margin-left: 18px; margin-bottom: 8px;\">\n",
      "<p>\n",
      "            22시 이후 입실하실 경우 펜션으로 미리 연락 부탁드립니다. 객실 깨끗이 정리 후 키 반납해주시길 바랍니다.\n",
      "          </p>\n",
      "</div>\n",
      "</div>\n"
     ]
    }
   ],
   "source": [
    "a = sibling_soup2.select_one('div.detailsPensionInfoTitle').findNext('div')\n",
    "print(type(a))\n",
    "print(a)"
   ]
  },
  {
   "cell_type": "code",
   "execution_count": null,
   "metadata": {},
   "outputs": [],
   "source": []
  },
  {
   "cell_type": "code",
   "execution_count": null,
   "metadata": {},
   "outputs": [],
   "source": []
  },
  {
   "cell_type": "code",
   "execution_count": null,
   "metadata": {},
   "outputs": [],
   "source": []
  },
  {
   "cell_type": "code",
   "execution_count": null,
   "metadata": {},
   "outputs": [],
   "source": []
  },
  {
   "cell_type": "code",
   "execution_count": null,
   "metadata": {},
   "outputs": [],
   "source": []
  },
  {
   "cell_type": "code",
   "execution_count": null,
   "metadata": {},
   "outputs": [],
   "source": []
  },
  {
   "cell_type": "code",
   "execution_count": null,
   "metadata": {},
   "outputs": [],
   "source": []
  },
  {
   "cell_type": "code",
   "execution_count": null,
   "metadata": {},
   "outputs": [],
   "source": []
  },
  {
   "cell_type": "code",
   "execution_count": null,
   "metadata": {},
   "outputs": [],
   "source": []
  },
  {
   "cell_type": "code",
   "execution_count": null,
   "metadata": {},
   "outputs": [],
   "source": []
  },
  {
   "cell_type": "code",
   "execution_count": null,
   "metadata": {},
   "outputs": [],
   "source": []
  },
  {
   "cell_type": "code",
   "execution_count": null,
   "metadata": {},
   "outputs": [],
   "source": []
  },
  {
   "cell_type": "code",
   "execution_count": null,
   "metadata": {},
   "outputs": [],
   "source": []
  },
  {
   "cell_type": "code",
   "execution_count": null,
   "metadata": {},
   "outputs": [],
   "source": []
  },
  {
   "cell_type": "code",
   "execution_count": null,
   "metadata": {},
   "outputs": [],
   "source": []
  },
  {
   "cell_type": "code",
   "execution_count": null,
   "metadata": {},
   "outputs": [],
   "source": []
  },
  {
   "cell_type": "code",
   "execution_count": null,
   "metadata": {},
   "outputs": [],
   "source": []
  },
  {
   "cell_type": "code",
   "execution_count": null,
   "metadata": {},
   "outputs": [],
   "source": []
  },
  {
   "cell_type": "code",
   "execution_count": null,
   "metadata": {},
   "outputs": [],
   "source": []
  },
  {
   "cell_type": "code",
   "execution_count": null,
   "metadata": {},
   "outputs": [],
   "source": []
  },
  {
   "cell_type": "code",
   "execution_count": null,
   "metadata": {},
   "outputs": [],
   "source": []
  },
  {
   "cell_type": "code",
   "execution_count": null,
   "metadata": {},
   "outputs": [],
   "source": []
  },
  {
   "cell_type": "code",
   "execution_count": null,
   "metadata": {},
   "outputs": [],
   "source": []
  },
  {
   "cell_type": "code",
   "execution_count": null,
   "metadata": {},
   "outputs": [],
   "source": []
  },
  {
   "cell_type": "code",
   "execution_count": null,
   "metadata": {},
   "outputs": [],
   "source": []
  },
  {
   "cell_type": "code",
   "execution_count": null,
   "metadata": {},
   "outputs": [],
   "source": []
  },
  {
   "cell_type": "code",
   "execution_count": null,
   "metadata": {},
   "outputs": [],
   "source": []
  },
  {
   "cell_type": "code",
   "execution_count": null,
   "metadata": {},
   "outputs": [],
   "source": []
  },
  {
   "cell_type": "code",
   "execution_count": null,
   "metadata": {},
   "outputs": [],
   "source": []
  },
  {
   "cell_type": "code",
   "execution_count": null,
   "metadata": {},
   "outputs": [],
   "source": []
  },
  {
   "cell_type": "code",
   "execution_count": null,
   "metadata": {},
   "outputs": [],
   "source": []
  },
  {
   "cell_type": "code",
   "execution_count": null,
   "metadata": {},
   "outputs": [],
   "source": []
  },
  {
   "cell_type": "code",
   "execution_count": null,
   "metadata": {},
   "outputs": [],
   "source": []
  },
  {
   "cell_type": "code",
   "execution_count": null,
   "metadata": {},
   "outputs": [],
   "source": []
  },
  {
   "cell_type": "code",
   "execution_count": null,
   "metadata": {},
   "outputs": [],
   "source": []
  },
  {
   "cell_type": "code",
   "execution_count": null,
   "metadata": {},
   "outputs": [],
   "source": []
  },
  {
   "cell_type": "code",
   "execution_count": null,
   "metadata": {},
   "outputs": [],
   "source": []
  },
  {
   "cell_type": "code",
   "execution_count": null,
   "metadata": {},
   "outputs": [],
   "source": []
  },
  {
   "cell_type": "code",
   "execution_count": null,
   "metadata": {},
   "outputs": [],
   "source": []
  },
  {
   "cell_type": "code",
   "execution_count": null,
   "metadata": {},
   "outputs": [],
   "source": []
  },
  {
   "cell_type": "code",
   "execution_count": null,
   "metadata": {},
   "outputs": [],
   "source": []
  },
  {
   "cell_type": "code",
   "execution_count": null,
   "metadata": {},
   "outputs": [],
   "source": []
  },
  {
   "cell_type": "code",
   "execution_count": null,
   "metadata": {},
   "outputs": [],
   "source": []
  },
  {
   "cell_type": "code",
   "execution_count": null,
   "metadata": {},
   "outputs": [],
   "source": []
  },
  {
   "cell_type": "code",
   "execution_count": null,
   "metadata": {},
   "outputs": [],
   "source": []
  },
  {
   "cell_type": "code",
   "execution_count": null,
   "metadata": {},
   "outputs": [],
   "source": []
  },
  {
   "cell_type": "code",
   "execution_count": null,
   "metadata": {},
   "outputs": [],
   "source": []
  },
  {
   "cell_type": "code",
   "execution_count": null,
   "metadata": {},
   "outputs": [],
   "source": []
  },
  {
   "cell_type": "code",
   "execution_count": null,
   "metadata": {},
   "outputs": [],
   "source": []
  },
  {
   "cell_type": "code",
   "execution_count": null,
   "metadata": {},
   "outputs": [],
   "source": []
  },
  {
   "cell_type": "code",
   "execution_count": null,
   "metadata": {},
   "outputs": [],
   "source": []
  },
  {
   "cell_type": "code",
   "execution_count": null,
   "metadata": {},
   "outputs": [],
   "source": []
  },
  {
   "cell_type": "code",
   "execution_count": null,
   "metadata": {},
   "outputs": [],
   "source": []
  },
  {
   "cell_type": "code",
   "execution_count": null,
   "metadata": {},
   "outputs": [],
   "source": []
  },
  {
   "cell_type": "code",
   "execution_count": null,
   "metadata": {},
   "outputs": [],
   "source": []
  },
  {
   "cell_type": "code",
   "execution_count": null,
   "metadata": {},
   "outputs": [],
   "source": []
  },
  {
   "cell_type": "code",
   "execution_count": null,
   "metadata": {},
   "outputs": [],
   "source": []
  },
  {
   "cell_type": "code",
   "execution_count": null,
   "metadata": {},
   "outputs": [],
   "source": []
  },
  {
   "cell_type": "code",
   "execution_count": null,
   "metadata": {},
   "outputs": [],
   "source": []
  },
  {
   "cell_type": "code",
   "execution_count": null,
   "metadata": {},
   "outputs": [],
   "source": []
  },
  {
   "cell_type": "code",
   "execution_count": null,
   "metadata": {},
   "outputs": [],
   "source": []
  },
  {
   "cell_type": "code",
   "execution_count": null,
   "metadata": {},
   "outputs": [],
   "source": []
  },
  {
   "cell_type": "code",
   "execution_count": null,
   "metadata": {},
   "outputs": [],
   "source": []
  },
  {
   "cell_type": "code",
   "execution_count": null,
   "metadata": {},
   "outputs": [],
   "source": []
  },
  {
   "cell_type": "code",
   "execution_count": null,
   "metadata": {},
   "outputs": [],
   "source": []
  },
  {
   "cell_type": "code",
   "execution_count": null,
   "metadata": {},
   "outputs": [],
   "source": []
  },
  {
   "cell_type": "code",
   "execution_count": null,
   "metadata": {},
   "outputs": [],
   "source": []
  },
  {
   "cell_type": "code",
   "execution_count": null,
   "metadata": {},
   "outputs": [],
   "source": []
  },
  {
   "cell_type": "code",
   "execution_count": null,
   "metadata": {},
   "outputs": [],
   "source": []
  },
  {
   "cell_type": "code",
   "execution_count": null,
   "metadata": {},
   "outputs": [],
   "source": []
  },
  {
   "cell_type": "code",
   "execution_count": null,
   "metadata": {},
   "outputs": [],
   "source": []
  },
  {
   "cell_type": "code",
   "execution_count": null,
   "metadata": {},
   "outputs": [],
   "source": []
  },
  {
   "cell_type": "code",
   "execution_count": null,
   "metadata": {},
   "outputs": [],
   "source": []
  },
  {
   "cell_type": "code",
   "execution_count": null,
   "metadata": {},
   "outputs": [],
   "source": []
  },
  {
   "cell_type": "code",
   "execution_count": null,
   "metadata": {},
   "outputs": [],
   "source": []
  },
  {
   "cell_type": "code",
   "execution_count": null,
   "metadata": {},
   "outputs": [],
   "source": []
  },
  {
   "cell_type": "code",
   "execution_count": null,
   "metadata": {},
   "outputs": [],
   "source": []
  },
  {
   "cell_type": "code",
   "execution_count": null,
   "metadata": {},
   "outputs": [],
   "source": []
  },
  {
   "cell_type": "code",
   "execution_count": null,
   "metadata": {},
   "outputs": [],
   "source": []
  },
  {
   "cell_type": "code",
   "execution_count": null,
   "metadata": {},
   "outputs": [],
   "source": []
  },
  {
   "cell_type": "code",
   "execution_count": null,
   "metadata": {},
   "outputs": [],
   "source": []
  },
  {
   "cell_type": "code",
   "execution_count": null,
   "metadata": {},
   "outputs": [],
   "source": []
  },
  {
   "cell_type": "code",
   "execution_count": null,
   "metadata": {},
   "outputs": [],
   "source": []
  },
  {
   "cell_type": "code",
   "execution_count": null,
   "metadata": {},
   "outputs": [],
   "source": []
  },
  {
   "cell_type": "code",
   "execution_count": null,
   "metadata": {},
   "outputs": [],
   "source": []
  },
  {
   "cell_type": "code",
   "execution_count": null,
   "metadata": {},
   "outputs": [],
   "source": []
  },
  {
   "cell_type": "code",
   "execution_count": null,
   "metadata": {},
   "outputs": [],
   "source": []
  },
  {
   "cell_type": "code",
   "execution_count": null,
   "metadata": {},
   "outputs": [],
   "source": []
  },
  {
   "cell_type": "code",
   "execution_count": null,
   "metadata": {},
   "outputs": [],
   "source": []
  },
  {
   "cell_type": "code",
   "execution_count": null,
   "metadata": {},
   "outputs": [],
   "source": []
  },
  {
   "cell_type": "code",
   "execution_count": null,
   "metadata": {},
   "outputs": [],
   "source": []
  },
  {
   "cell_type": "code",
   "execution_count": null,
   "metadata": {},
   "outputs": [],
   "source": []
  },
  {
   "cell_type": "code",
   "execution_count": null,
   "metadata": {},
   "outputs": [],
   "source": []
  },
  {
   "cell_type": "code",
   "execution_count": null,
   "metadata": {},
   "outputs": [],
   "source": []
  },
  {
   "cell_type": "code",
   "execution_count": null,
   "metadata": {},
   "outputs": [],
   "source": []
  },
  {
   "cell_type": "code",
   "execution_count": null,
   "metadata": {},
   "outputs": [],
   "source": [
    "6"
   ]
  },
  {
   "cell_type": "code",
   "execution_count": null,
   "metadata": {},
   "outputs": [],
   "source": []
  },
  {
   "cell_type": "code",
   "execution_count": null,
   "metadata": {},
   "outputs": [],
   "source": []
  },
  {
   "cell_type": "code",
   "execution_count": null,
   "metadata": {},
   "outputs": [],
   "source": []
  },
  {
   "cell_type": "code",
   "execution_count": null,
   "metadata": {},
   "outputs": [],
   "source": []
  },
  {
   "cell_type": "code",
   "execution_count": null,
   "metadata": {},
   "outputs": [],
   "source": []
  },
  {
   "cell_type": "code",
   "execution_count": null,
   "metadata": {},
   "outputs": [],
   "source": []
  },
  {
   "cell_type": "code",
   "execution_count": null,
   "metadata": {},
   "outputs": [],
   "source": []
  },
  {
   "cell_type": "code",
   "execution_count": null,
   "metadata": {},
   "outputs": [],
   "source": []
  },
  {
   "cell_type": "code",
   "execution_count": null,
   "metadata": {},
   "outputs": [],
   "source": []
  },
  {
   "cell_type": "code",
   "execution_count": null,
   "metadata": {},
   "outputs": [],
   "source": []
  },
  {
   "cell_type": "code",
   "execution_count": null,
   "metadata": {},
   "outputs": [],
   "source": []
  },
  {
   "cell_type": "code",
   "execution_count": null,
   "metadata": {},
   "outputs": [],
   "source": []
  },
  {
   "cell_type": "code",
   "execution_count": null,
   "metadata": {},
   "outputs": [],
   "source": []
  },
  {
   "cell_type": "code",
   "execution_count": null,
   "metadata": {},
   "outputs": [],
   "source": []
  },
  {
   "cell_type": "code",
   "execution_count": null,
   "metadata": {},
   "outputs": [],
   "source": []
  },
  {
   "cell_type": "code",
   "execution_count": null,
   "metadata": {},
   "outputs": [],
   "source": []
  },
  {
   "cell_type": "code",
   "execution_count": null,
   "metadata": {},
   "outputs": [],
   "source": []
  },
  {
   "cell_type": "code",
   "execution_count": null,
   "metadata": {},
   "outputs": [],
   "source": []
  },
  {
   "cell_type": "code",
   "execution_count": null,
   "metadata": {},
   "outputs": [],
   "source": []
  },
  {
   "cell_type": "code",
   "execution_count": null,
   "metadata": {},
   "outputs": [],
   "source": []
  },
  {
   "cell_type": "code",
   "execution_count": null,
   "metadata": {},
   "outputs": [],
   "source": []
  },
  {
   "cell_type": "code",
   "execution_count": null,
   "metadata": {},
   "outputs": [],
   "source": []
  },
  {
   "cell_type": "code",
   "execution_count": null,
   "metadata": {},
   "outputs": [],
   "source": []
  },
  {
   "cell_type": "code",
   "execution_count": null,
   "metadata": {},
   "outputs": [],
   "source": []
  },
  {
   "cell_type": "code",
   "execution_count": null,
   "metadata": {},
   "outputs": [],
   "source": []
  },
  {
   "cell_type": "code",
   "execution_count": null,
   "metadata": {},
   "outputs": [],
   "source": []
  },
  {
   "cell_type": "code",
   "execution_count": null,
   "metadata": {},
   "outputs": [],
   "source": []
  },
  {
   "cell_type": "code",
   "execution_count": null,
   "metadata": {},
   "outputs": [],
   "source": []
  },
  {
   "cell_type": "code",
   "execution_count": null,
   "metadata": {},
   "outputs": [],
   "source": []
  },
  {
   "cell_type": "code",
   "execution_count": null,
   "metadata": {},
   "outputs": [],
   "source": []
  },
  {
   "cell_type": "code",
   "execution_count": null,
   "metadata": {},
   "outputs": [],
   "source": []
  },
  {
   "cell_type": "code",
   "execution_count": null,
   "metadata": {},
   "outputs": [],
   "source": []
  },
  {
   "cell_type": "code",
   "execution_count": null,
   "metadata": {},
   "outputs": [],
   "source": []
  },
  {
   "cell_type": "code",
   "execution_count": null,
   "metadata": {},
   "outputs": [],
   "source": []
  },
  {
   "cell_type": "code",
   "execution_count": null,
   "metadata": {},
   "outputs": [],
   "source": []
  },
  {
   "cell_type": "code",
   "execution_count": null,
   "metadata": {},
   "outputs": [],
   "source": []
  },
  {
   "cell_type": "code",
   "execution_count": null,
   "metadata": {},
   "outputs": [],
   "source": []
  },
  {
   "cell_type": "code",
   "execution_count": null,
   "metadata": {},
   "outputs": [],
   "source": []
  },
  {
   "cell_type": "code",
   "execution_count": null,
   "metadata": {},
   "outputs": [],
   "source": []
  },
  {
   "cell_type": "code",
   "execution_count": null,
   "metadata": {},
   "outputs": [],
   "source": []
  },
  {
   "cell_type": "code",
   "execution_count": null,
   "metadata": {},
   "outputs": [],
   "source": []
  },
  {
   "cell_type": "code",
   "execution_count": null,
   "metadata": {},
   "outputs": [],
   "source": []
  },
  {
   "cell_type": "code",
   "execution_count": null,
   "metadata": {},
   "outputs": [],
   "source": []
  },
  {
   "cell_type": "code",
   "execution_count": null,
   "metadata": {},
   "outputs": [],
   "source": []
  },
  {
   "cell_type": "code",
   "execution_count": null,
   "metadata": {},
   "outputs": [],
   "source": []
  },
  {
   "cell_type": "code",
   "execution_count": null,
   "metadata": {},
   "outputs": [],
   "source": []
  },
  {
   "cell_type": "code",
   "execution_count": null,
   "metadata": {},
   "outputs": [],
   "source": []
  },
  {
   "cell_type": "code",
   "execution_count": null,
   "metadata": {},
   "outputs": [],
   "source": []
  },
  {
   "cell_type": "code",
   "execution_count": null,
   "metadata": {},
   "outputs": [],
   "source": []
  },
  {
   "cell_type": "code",
   "execution_count": null,
   "metadata": {},
   "outputs": [],
   "source": []
  },
  {
   "cell_type": "code",
   "execution_count": null,
   "metadata": {},
   "outputs": [],
   "source": []
  },
  {
   "cell_type": "code",
   "execution_count": null,
   "metadata": {},
   "outputs": [],
   "source": []
  },
  {
   "cell_type": "code",
   "execution_count": null,
   "metadata": {},
   "outputs": [],
   "source": []
  },
  {
   "cell_type": "code",
   "execution_count": null,
   "metadata": {},
   "outputs": [],
   "source": []
  },
  {
   "cell_type": "code",
   "execution_count": null,
   "metadata": {},
   "outputs": [],
   "source": []
  },
  {
   "cell_type": "code",
   "execution_count": null,
   "metadata": {},
   "outputs": [],
   "source": []
  },
  {
   "cell_type": "code",
   "execution_count": null,
   "metadata": {},
   "outputs": [],
   "source": []
  },
  {
   "cell_type": "code",
   "execution_count": null,
   "metadata": {},
   "outputs": [],
   "source": []
  },
  {
   "cell_type": "code",
   "execution_count": null,
   "metadata": {},
   "outputs": [],
   "source": []
  },
  {
   "cell_type": "code",
   "execution_count": null,
   "metadata": {},
   "outputs": [],
   "source": []
  },
  {
   "cell_type": "code",
   "execution_count": null,
   "metadata": {},
   "outputs": [],
   "source": []
  },
  {
   "cell_type": "code",
   "execution_count": null,
   "metadata": {},
   "outputs": [],
   "source": []
  },
  {
   "cell_type": "code",
   "execution_count": null,
   "metadata": {},
   "outputs": [],
   "source": []
  },
  {
   "cell_type": "code",
   "execution_count": null,
   "metadata": {},
   "outputs": [],
   "source": []
  },
  {
   "cell_type": "code",
   "execution_count": null,
   "metadata": {},
   "outputs": [],
   "source": []
  },
  {
   "cell_type": "code",
   "execution_count": null,
   "metadata": {},
   "outputs": [],
   "source": []
  },
  {
   "cell_type": "code",
   "execution_count": null,
   "metadata": {},
   "outputs": [],
   "source": []
  },
  {
   "cell_type": "code",
   "execution_count": null,
   "metadata": {},
   "outputs": [],
   "source": []
  },
  {
   "cell_type": "code",
   "execution_count": null,
   "metadata": {},
   "outputs": [],
   "source": []
  },
  {
   "cell_type": "code",
   "execution_count": null,
   "metadata": {},
   "outputs": [],
   "source": []
  },
  {
   "cell_type": "code",
   "execution_count": null,
   "metadata": {},
   "outputs": [],
   "source": []
  },
  {
   "cell_type": "code",
   "execution_count": null,
   "metadata": {},
   "outputs": [],
   "source": []
  },
  {
   "cell_type": "code",
   "execution_count": null,
   "metadata": {},
   "outputs": [],
   "source": [
    "\n",
    "#  province_dict  뽑는 과정인데 list로 바꾼후 여기다 일단 저장해 놓음. 나중에 필요하면 가져다 써라.\n",
    "\n",
    "\n",
    "\n",
    "\n",
    "#@@@@@@@@@@@@@@@@@@@@@@@@@@@@@@@@@@@@@@@@@@@@@@@@@@@@@@@@@@@@@@@@@@@@@@@@@@@@@@@\n",
    "# province_dict 뽑는 과정 \n",
    "\n",
    "def province_dict_crawler():\n",
    "    request = requests.get(\"http://www.yapen.co.kr\")\n",
    "    response = request.text\n",
    "    soup = BeautifulSoup(response, 'lxml')\n",
    "\n",
    "    left_menu=soup.select('div.locLayer')\n",
    "    # 풀빌라, MD추천 제외 14지역중 7지역 만남김.\n",
    "    selected_left_menu= left_menu[2:9]\n",
    "    # print(selected_left_menu)\n",
    "\n",
    "    # 여기에 dict 형태로 지역/(세부지역,고유번호) 넣고싶다. \n",
    "    # location_dict = {'지역':[(고유번호,세부지역),(고유번호2,세부지역2),(고유번호3,세부지역3)]}\n",
    "    location_dict=dict()\n",
    "\n",
    "    for location in selected_left_menu:\n",
    "        # 지역 이름 먼저 뽑음 \n",
    "        province_title = location.select('div.titleStyle')[0].get_text(strip=True)\n",
    "    #     print(province_title)\n",
    "\n",
    "        li=location.select('li')\n",
    "\n",
    "        #for문 돌면서 (고유번호 세부지역) 리스트에 담은뒤 province_dict에 넣겠다.\n",
    "        location_detail_list=[] \n",
    "        for location_detail in li:\n",
    "            onclick_value = location_detail['onclick']  #regionMove('1.003021','금산/논산');  \n",
    "            location_detail_tuple = tuple(re.findall(\"'(.+)'\",onclick_value))\n",
    "\n",
    "             # (고유번호 세부지역) 리스트에 담음\n",
    "            location_detail_list.append(location_detail_tuple)\n",
    "\n",
    "        # location_dict에 지역과 함께 (고유번호 세부지역) 리스트에 넣음.\n",
    "        location_dict[province_title]= location_detail_list\n",
    "        \n",
    "    return location_dict\n",
    "    \n",
    "    \n",
    "# province_dict 뽑는 과정 끝\n",
    "######################################################################################"
   ]
  }
 ],
 "metadata": {
  "kernelspec": {
   "display_name": "Python 3",
   "language": "python",
   "name": "python3"
  },
  "language_info": {
   "codemirror_mode": {
    "name": "ipython",
    "version": 3
   },
   "file_extension": ".py",
   "mimetype": "text/x-python",
   "name": "python",
   "nbconvert_exporter": "python",
   "pygments_lexer": "ipython3",
   "version": "3.6.5"
  }
 },
 "nbformat": 4,
 "nbformat_minor": 2
}
